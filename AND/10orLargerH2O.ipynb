{
 "cells": [
  {
   "cell_type": "code",
   "execution_count": 1,
   "metadata": {},
   "outputs": [
    {
     "name": "stdout",
     "output_type": "stream",
     "text": [
      "Checking whether there is an H2O instance running at http://localhost:54321 ..... not found.\n",
      "Attempting to start a local H2O server...\n",
      "; Java HotSpot(TM) 64-Bit Server VM (build 25.221-b11, mixed mode)\n",
      "  Starting server from C:\\Users\\msche\\.conda\\envs\\h2o\\lib\\site-packages\\h2o\\backend\\bin\\h2o.jar\n",
      "  Ice root: C:\\Users\\msche\\AppData\\Local\\Temp\\tmpdfpn9h30\n",
      "  JVM stdout: C:\\Users\\msche\\AppData\\Local\\Temp\\tmpdfpn9h30\\h2o_msche_started_from_python.out\n",
      "  JVM stderr: C:\\Users\\msche\\AppData\\Local\\Temp\\tmpdfpn9h30\\h2o_msche_started_from_python.err\n",
      "  Server is running at http://127.0.0.1:54321\n",
      "Connecting to H2O server at http://127.0.0.1:54321 ... successful.\n"
     ]
    },
    {
     "data": {
      "text/html": [
       "<div style=\"overflow:auto\"><table style=\"width:50%\"><tr><td>H2O cluster uptime:</td>\n",
       "<td>02 secs</td></tr>\n",
       "<tr><td>H2O cluster timezone:</td>\n",
       "<td>Europe/Berlin</td></tr>\n",
       "<tr><td>H2O data parsing timezone:</td>\n",
       "<td>UTC</td></tr>\n",
       "<tr><td>H2O cluster version:</td>\n",
       "<td>3.26.0.5</td></tr>\n",
       "<tr><td>H2O cluster version age:</td>\n",
       "<td>7 days, 16 hours and 48 minutes </td></tr>\n",
       "<tr><td>H2O cluster name:</td>\n",
       "<td>H2O_from_python_msche_z22ubu</td></tr>\n",
       "<tr><td>H2O cluster total nodes:</td>\n",
       "<td>1</td></tr>\n",
       "<tr><td>H2O cluster free memory:</td>\n",
       "<td>1.724 Gb</td></tr>\n",
       "<tr><td>H2O cluster total cores:</td>\n",
       "<td>8</td></tr>\n",
       "<tr><td>H2O cluster allowed cores:</td>\n",
       "<td>8</td></tr>\n",
       "<tr><td>H2O cluster status:</td>\n",
       "<td>accepting new members, healthy</td></tr>\n",
       "<tr><td>H2O connection url:</td>\n",
       "<td>http://127.0.0.1:54321</td></tr>\n",
       "<tr><td>H2O connection proxy:</td>\n",
       "<td>None</td></tr>\n",
       "<tr><td>H2O internal security:</td>\n",
       "<td>False</td></tr>\n",
       "<tr><td>H2O API Extensions:</td>\n",
       "<td>Amazon S3, Algos, AutoML, Core V3, TargetEncoder, Core V4</td></tr>\n",
       "<tr><td>Python version:</td>\n",
       "<td>3.6.9 final</td></tr></table></div>"
      ],
      "text/plain": [
       "--------------------------  ---------------------------------------------------------\n",
       "H2O cluster uptime:         02 secs\n",
       "H2O cluster timezone:       Europe/Berlin\n",
       "H2O data parsing timezone:  UTC\n",
       "H2O cluster version:        3.26.0.5\n",
       "H2O cluster version age:    7 days, 16 hours and 48 minutes\n",
       "H2O cluster name:           H2O_from_python_msche_z22ubu\n",
       "H2O cluster total nodes:    1\n",
       "H2O cluster free memory:    1.724 Gb\n",
       "H2O cluster total cores:    8\n",
       "H2O cluster allowed cores:  8\n",
       "H2O cluster status:         accepting new members, healthy\n",
       "H2O connection url:         http://127.0.0.1:54321\n",
       "H2O connection proxy:\n",
       "H2O internal security:      False\n",
       "H2O API Extensions:         Amazon S3, Algos, AutoML, Core V3, TargetEncoder, Core V4\n",
       "Python version:             3.6.9 final\n",
       "--------------------------  ---------------------------------------------------------"
      ]
     },
     "metadata": {},
     "output_type": "display_data"
    }
   ],
   "source": [
    "import h2o\n",
    "from h2o.automl import H2OAutoML\n",
    "\n",
    "h2o.init()"
   ]
  },
  {
   "cell_type": "code",
   "execution_count": 38,
   "metadata": {},
   "outputs": [
    {
     "name": "stdout",
     "output_type": "stream",
     "text": [
      "Parse progress: |█████████████████████████████████████████████████████████| 100%\n",
      "Parse progress: |█████████████████████████████████████████████████████████| 100%\n"
     ]
    }
   ],
   "source": [
    "train = h2o.import_file(\"C:\\Daten\\ML\\AND\\AND.csv\")\n",
    "test = h2o.import_file(\"C:\\Daten\\ML\\AND\\Simon.csv\")\n",
    "aml = H2OAutoML(max_runtime_secs = 180)"
   ]
  },
  {
   "cell_type": "code",
   "execution_count": 39,
   "metadata": {
    "scrolled": true
   },
   "outputs": [
    {
     "name": "stdout",
     "output_type": "stream",
     "text": [
      "AutoML progress: |████████████████████████████████████████████████████████| 100%\n"
     ]
    }
   ],
   "source": [
    "aml.train(y=\"c\",x=[\"a\",\"b\"], training_frame = train)"
   ]
  },
  {
   "cell_type": "code",
   "execution_count": 41,
   "metadata": {},
   "outputs": [
    {
     "name": "stdout",
     "output_type": "stream",
     "text": [
      "deeplearning prediction progress: |███████████████████████████████████████| 100%\n"
     ]
    }
   ],
   "source": [
    "pred = aml.predict(test)"
   ]
  },
  {
   "cell_type": "code",
   "execution_count": 42,
   "metadata": {},
   "outputs": [],
   "source": [
    "#testing = h2o.import_file(\"C:\\Daten\\ML\\AND\\LB.csv\")\n",
    "#perf = aml.leader.model_performance(testing)\n",
    "#perf"
   ]
  },
  {
   "cell_type": "code",
   "execution_count": 43,
   "metadata": {},
   "outputs": [],
   "source": [
    "#train"
   ]
  },
  {
   "cell_type": "code",
   "execution_count": 44,
   "metadata": {},
   "outputs": [],
   "source": [
    "#h2o.save_model(aml.leader, path = \"C:\\Daten\\ML\\AND\\great_Model\")"
   ]
  },
  {
   "cell_type": "code",
   "execution_count": 46,
   "metadata": {},
   "outputs": [
    {
     "name": "stdout",
     "output_type": "stream",
     "text": [
      "Anzahl:  21\n",
      "Summe:  7\n",
      "Total dif:  3.3018531552043164\n",
      "Relativ dif:  0.157231102628777\n"
     ]
    },
    {
     "data": {
      "text/plain": [
       "[['predict'],\n",
       " ['0.10315701539320604'],\n",
       " ['0.8952699890113304'],\n",
       " ['0.1879893201483409'],\n",
       " ['0.08073937370644607'],\n",
       " ['0.09697266367570939'],\n",
       " ['0.9432560140500559'],\n",
       " ['0.9655299938483043'],\n",
       " ['0.20080134776308647'],\n",
       " ['0.8756404738210568'],\n",
       " ['1.185404734137125'],\n",
       " ['0.11593144346334533'],\n",
       " ['0.07195654433165333'],\n",
       " ['0.09347476318181369'],\n",
       " ['0.9792377224940495'],\n",
       " ['0.21183726043232864'],\n",
       " ['0.9624436288211655'],\n",
       " ['0.20080134776308647'],\n",
       " ['0.20447998531950015'],\n",
       " ['0.11902361932209393'],\n",
       " ['0.9493384413874569']]"
      ]
     },
     "execution_count": 46,
     "metadata": {},
     "output_type": "execute_result"
    }
   ],
   "source": [
    "df = test.as_data_frame(0)\n",
    "pre = pred.as_data_frame(0)\n",
    "\n",
    "count = 0\n",
    "value = 0\n",
    "valuePre = 0\n",
    "dif = 0\n",
    "\n",
    "for x in df:\n",
    "    if count > 0:\n",
    "        valuePre += float(pre[count][0])\n",
    "        value += int(x[2])\n",
    "        dif += abs(abs(float(x[2]))-abs(float(pre[count][0])))\n",
    "    count += 1\n",
    "\n",
    "#print(\"df: \",df)\n",
    "print(\"Anzahl: \",count)\n",
    "print(\"Summe: \",value)\n",
    "print(\"Total dif: \",dif)\n",
    "print(\"Relativ dif: \",dif/count)\n",
    "#pred.describe\n",
    "#df\n",
    "pre"
   ]
  },
  {
   "cell_type": "code",
   "execution_count": null,
   "metadata": {},
   "outputs": [],
   "source": []
  }
 ],
 "metadata": {
  "kernelspec": {
   "display_name": "Python 3",
   "language": "python",
   "name": "python3"
  },
  "language_info": {
   "codemirror_mode": {
    "name": "ipython",
    "version": 3
   },
   "file_extension": ".py",
   "mimetype": "text/x-python",
   "name": "python",
   "nbconvert_exporter": "python",
   "pygments_lexer": "ipython3",
   "version": "3.6.9"
  }
 },
 "nbformat": 4,
 "nbformat_minor": 2
}
