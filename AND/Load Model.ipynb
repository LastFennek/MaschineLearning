{
 "cells": [
  {
   "cell_type": "code",
   "execution_count": 1,
   "metadata": {},
   "outputs": [
    {
     "name": "stdout",
     "output_type": "stream",
     "text": [
      "Checking whether there is an H2O instance running at http://localhost:54321 . connected.\n"
     ]
    },
    {
     "data": {
      "text/html": [
       "<div style=\"overflow:auto\"><table style=\"width:50%\"><tr><td>H2O cluster uptime:</td>\n",
       "<td>1 hour 4 mins</td></tr>\n",
       "<tr><td>H2O cluster timezone:</td>\n",
       "<td>Europe/Berlin</td></tr>\n",
       "<tr><td>H2O data parsing timezone:</td>\n",
       "<td>UTC</td></tr>\n",
       "<tr><td>H2O cluster version:</td>\n",
       "<td>3.26.0.5</td></tr>\n",
       "<tr><td>H2O cluster version age:</td>\n",
       "<td>7 days, 17 hours and 52 minutes </td></tr>\n",
       "<tr><td>H2O cluster name:</td>\n",
       "<td>H2O_from_python_msche_z22ubu</td></tr>\n",
       "<tr><td>H2O cluster total nodes:</td>\n",
       "<td>1</td></tr>\n",
       "<tr><td>H2O cluster free memory:</td>\n",
       "<td>1.278 Gb</td></tr>\n",
       "<tr><td>H2O cluster total cores:</td>\n",
       "<td>8</td></tr>\n",
       "<tr><td>H2O cluster allowed cores:</td>\n",
       "<td>8</td></tr>\n",
       "<tr><td>H2O cluster status:</td>\n",
       "<td>locked, healthy</td></tr>\n",
       "<tr><td>H2O connection url:</td>\n",
       "<td>http://localhost:54321</td></tr>\n",
       "<tr><td>H2O connection proxy:</td>\n",
       "<td>None</td></tr>\n",
       "<tr><td>H2O internal security:</td>\n",
       "<td>False</td></tr>\n",
       "<tr><td>H2O API Extensions:</td>\n",
       "<td>Amazon S3, Algos, AutoML, Core V3, TargetEncoder, Core V4</td></tr>\n",
       "<tr><td>Python version:</td>\n",
       "<td>3.6.9 final</td></tr></table></div>"
      ],
      "text/plain": [
       "--------------------------  ---------------------------------------------------------\n",
       "H2O cluster uptime:         1 hour 4 mins\n",
       "H2O cluster timezone:       Europe/Berlin\n",
       "H2O data parsing timezone:  UTC\n",
       "H2O cluster version:        3.26.0.5\n",
       "H2O cluster version age:    7 days, 17 hours and 52 minutes\n",
       "H2O cluster name:           H2O_from_python_msche_z22ubu\n",
       "H2O cluster total nodes:    1\n",
       "H2O cluster free memory:    1.278 Gb\n",
       "H2O cluster total cores:    8\n",
       "H2O cluster allowed cores:  8\n",
       "H2O cluster status:         locked, healthy\n",
       "H2O connection url:         http://localhost:54321\n",
       "H2O connection proxy:\n",
       "H2O internal security:      False\n",
       "H2O API Extensions:         Amazon S3, Algos, AutoML, Core V3, TargetEncoder, Core V4\n",
       "Python version:             3.6.9 final\n",
       "--------------------------  ---------------------------------------------------------"
      ]
     },
     "metadata": {},
     "output_type": "display_data"
    }
   ],
   "source": [
    "import h2o\n",
    "from h2o.automl import H2OAutoML\n",
    "\n",
    "h2o.init()"
   ]
  },
  {
   "cell_type": "code",
   "execution_count": 2,
   "metadata": {},
   "outputs": [],
   "source": [
    "test = h2o.load_model(\"C:\\Daten\\ML\\AND\\great_Model\\DeepLearning_grid_1_AutoML_20190924_085830_model_2\")"
   ]
  },
  {
   "cell_type": "code",
   "execution_count": 83,
   "metadata": {},
   "outputs": [
    {
     "name": "stdout",
     "output_type": "stream",
     "text": [
      "Parse progress: |█████████████████████████████████████████████████████████| 100%\n"
     ]
    }
   ],
   "source": [
    "#testdata = h2o.import_file(\"C:\\Daten\\ML\\AND\\VERS.csv\")\n",
    "testdata = h2o.import_file(\"C:\\Daten\\ML\\AND\\AND.csv\")"
   ]
  },
  {
   "cell_type": "code",
   "execution_count": 84,
   "metadata": {},
   "outputs": [],
   "source": [
    "#testdata"
   ]
  },
  {
   "cell_type": "code",
   "execution_count": 137,
   "metadata": {},
   "outputs": [
    {
     "name": "stdout",
     "output_type": "stream",
     "text": [
      "deeplearning prediction progress: |███████████████████████████████████████| 100%\n"
     ]
    }
   ],
   "source": [
    "pred = test.predict(testdata)"
   ]
  },
  {
   "cell_type": "code",
   "execution_count": 86,
   "metadata": {},
   "outputs": [],
   "source": [
    "#import numpy as np\n",
    "#import pandas as pd\n",
    "#.as_data_frame.\n",
    "#.columns\n",
    "#.cumsum()\n",
    "#testdata.mean()\n",
    "#testdata[0].abs\n",
    "#testdata[0]\n",
    "#testdata[0].nrows"
   ]
  },
  {
   "cell_type": "code",
   "execution_count": 138,
   "metadata": {},
   "outputs": [
    {
     "name": "stdout",
     "output_type": "stream",
     "text": [
      "Anzahl:  34\n",
      "Max Prediction:  ['predict']\n",
      "Min Prediction:  ['-0.0015532021844120725']\n",
      "Summe:  13\n",
      "Total dif:  0.31282680520530765\n",
      "Relativ dif:  0.009200788388391402\n",
      "Standartabweichung: \n"
     ]
    },
    {
     "data": {
      "text/html": [
       "<table>\n",
       "<thead>\n",
       "<tr><th style=\"text-align: right;\">     predict</th></tr>\n",
       "</thead>\n",
       "<tbody>\n",
       "<tr><td style=\"text-align: right;\">-0.000143193</td></tr>\n",
       "<tr><td style=\"text-align: right;\"> 0.999991   </td></tr>\n",
       "<tr><td style=\"text-align: right;\"> 0.00456395 </td></tr>\n",
       "<tr><td style=\"text-align: right;\"> 0.00408683 </td></tr>\n",
       "<tr><td style=\"text-align: right;\"> 1.02697    </td></tr>\n",
       "<tr><td style=\"text-align: right;\"> 0.00626946 </td></tr>\n",
       "<tr><td style=\"text-align: right;\"> 1.00035    </td></tr>\n",
       "<tr><td style=\"text-align: right;\"> 1.03016    </td></tr>\n",
       "<tr><td style=\"text-align: right;\"> 1.00069    </td></tr>\n",
       "<tr><td style=\"text-align: right;\"> 0.00425529 </td></tr>\n",
       "</tbody>\n",
       "</table>"
      ]
     },
     "metadata": {},
     "output_type": "display_data"
    },
    {
     "data": {
      "text/plain": [
       "<bound method H2OFrame.describe of >"
      ]
     },
     "execution_count": 138,
     "metadata": {},
     "output_type": "execute_result"
    }
   ],
   "source": [
    "df = testdata.as_data_frame(0)\n",
    "pre = pred.as_data_frame(0)\n",
    "\n",
    "#temp = pre.pop(max(pre))\n",
    "pre_max = max(pre)\n",
    "pre_min = min(pre)\n",
    "\n",
    "\n",
    "pre_set = set()\n",
    "\n",
    "count1 = 0\n",
    "for x in df:\n",
    "    if count1 > 0:\n",
    "        for y in x:\n",
    "            pre_set.add(float(\"{0:.1f}\".format(float(y))))\n",
    "    count1 += 1\n",
    "\n",
    "count = 0\n",
    "value = 0\n",
    "valuePre = 0\n",
    "dif = 0\n",
    "\n",
    "for x in df:\n",
    "    if count > 0:\n",
    "        valuePre += float(pre[count][0])\n",
    "        value += int(x[2])\n",
    "        dif += abs(abs(float(x[2]))-abs(float(pre[count][0])))\n",
    "    count += 1\n",
    "\n",
    "#print(\"df: \",df)\n",
    "print(\"Anzahl: \",count)\n",
    "print(\"Max Prediction: \",pre_max)\n",
    "print(\"Min Prediction: \",pre_min)\n",
    "print(\"Summe: \",value)\n",
    "print(\"Total dif: \",dif)\n",
    "print(\"Relativ dif: \",dif/count)\n",
    "print(\"Standartabweichung: \", )\n",
    "#pred.describe\n",
    "#df\n",
    "#pre"
   ]
  },
  {
   "cell_type": "code",
   "execution_count": 89,
   "metadata": {},
   "outputs": [],
   "source": [
    "#type(df) = list\n",
    "#df\n",
    "#df[0]\n",
    "#df[1][1]"
   ]
  }
 ],
 "metadata": {
  "kernelspec": {
   "display_name": "Python 3",
   "language": "python",
   "name": "python3"
  },
  "language_info": {
   "codemirror_mode": {
    "name": "ipython",
    "version": 3
   },
   "file_extension": ".py",
   "mimetype": "text/x-python",
   "name": "python",
   "nbconvert_exporter": "python",
   "pygments_lexer": "ipython3",
   "version": "3.6.9"
  }
 },
 "nbformat": 4,
 "nbformat_minor": 2
}
