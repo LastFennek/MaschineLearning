{
 "cells": [
  {
   "cell_type": "code",
   "execution_count": 1,
   "metadata": {},
   "outputs": [
    {
     "name": "stdout",
     "output_type": "stream",
     "text": [
      "Checking whether there is an H2O instance running at http://localhost:54321 . connected.\n"
     ]
    },
    {
     "data": {
      "text/html": [
       "<div style=\"overflow:auto\"><table style=\"width:50%\"><tr><td>H2O cluster uptime:</td>\n",
       "<td>24 mins 05 secs</td></tr>\n",
       "<tr><td>H2O cluster timezone:</td>\n",
       "<td>Europe/Berlin</td></tr>\n",
       "<tr><td>H2O data parsing timezone:</td>\n",
       "<td>UTC</td></tr>\n",
       "<tr><td>H2O cluster version:</td>\n",
       "<td>3.26.0.5</td></tr>\n",
       "<tr><td>H2O cluster version age:</td>\n",
       "<td>7 days, 17 hours and 12 minutes </td></tr>\n",
       "<tr><td>H2O cluster name:</td>\n",
       "<td>H2O_from_python_msche_z22ubu</td></tr>\n",
       "<tr><td>H2O cluster total nodes:</td>\n",
       "<td>1</td></tr>\n",
       "<tr><td>H2O cluster free memory:</td>\n",
       "<td>1.205 Gb</td></tr>\n",
       "<tr><td>H2O cluster total cores:</td>\n",
       "<td>8</td></tr>\n",
       "<tr><td>H2O cluster allowed cores:</td>\n",
       "<td>8</td></tr>\n",
       "<tr><td>H2O cluster status:</td>\n",
       "<td>locked, healthy</td></tr>\n",
       "<tr><td>H2O connection url:</td>\n",
       "<td>http://localhost:54321</td></tr>\n",
       "<tr><td>H2O connection proxy:</td>\n",
       "<td>None</td></tr>\n",
       "<tr><td>H2O internal security:</td>\n",
       "<td>False</td></tr>\n",
       "<tr><td>H2O API Extensions:</td>\n",
       "<td>Amazon S3, Algos, AutoML, Core V3, TargetEncoder, Core V4</td></tr>\n",
       "<tr><td>Python version:</td>\n",
       "<td>3.6.9 final</td></tr></table></div>"
      ],
      "text/plain": [
       "--------------------------  ---------------------------------------------------------\n",
       "H2O cluster uptime:         24 mins 05 secs\n",
       "H2O cluster timezone:       Europe/Berlin\n",
       "H2O data parsing timezone:  UTC\n",
       "H2O cluster version:        3.26.0.5\n",
       "H2O cluster version age:    7 days, 17 hours and 12 minutes\n",
       "H2O cluster name:           H2O_from_python_msche_z22ubu\n",
       "H2O cluster total nodes:    1\n",
       "H2O cluster free memory:    1.205 Gb\n",
       "H2O cluster total cores:    8\n",
       "H2O cluster allowed cores:  8\n",
       "H2O cluster status:         locked, healthy\n",
       "H2O connection url:         http://localhost:54321\n",
       "H2O connection proxy:\n",
       "H2O internal security:      False\n",
       "H2O API Extensions:         Amazon S3, Algos, AutoML, Core V3, TargetEncoder, Core V4\n",
       "Python version:             3.6.9 final\n",
       "--------------------------  ---------------------------------------------------------"
      ]
     },
     "metadata": {},
     "output_type": "display_data"
    }
   ],
   "source": [
    "import h2o\n",
    "from h2o.automl import H2OAutoML\n",
    "\n",
    "h2o.init()"
   ]
  },
  {
   "cell_type": "code",
   "execution_count": 105,
   "metadata": {},
   "outputs": [
    {
     "name": "stdout",
     "output_type": "stream",
     "text": [
      "Parse progress: |█████████████████████████████████████████████████████████| 100%\n"
     ]
    }
   ],
   "source": [
    "data = h2o.import_file(\"C:\\Daten\\ML\\Person\\data.csv\")\n",
    "\n",
    "splits = data.split_frame(ratios = [0.8], seed = 1)\n",
    "train = splits[0]\n",
    "test = splits[1]"
   ]
  },
  {
   "cell_type": "code",
   "execution_count": 107,
   "metadata": {},
   "outputs": [],
   "source": [
    "#data.head()\n",
    "#y = ['P7','P8','P9']\n",
    "x = data.columns\n",
    "x.remove('source')\n",
    "x.remove('country')\n",
    "#x.remove('P7')\n",
    "#x.remove('P8')\n",
    "x.remove('P9')\n",
    "#print(x)"
   ]
  },
  {
   "cell_type": "code",
   "execution_count": 108,
   "metadata": {},
   "outputs": [],
   "source": [
    "aml = H2OAutoML(max_runtime_secs = 360)"
   ]
  },
  {
   "cell_type": "code",
   "execution_count": 109,
   "metadata": {},
   "outputs": [
    {
     "name": "stdout",
     "output_type": "stream",
     "text": [
      "AutoML progress: |████████████████████████████████████████████████████████| 100%\n"
     ]
    }
   ],
   "source": [
    "aml.train(y = 'P9', x = x, training_frame = train, leaderboard_frame = test)"
   ]
  },
  {
   "cell_type": "code",
   "execution_count": 110,
   "metadata": {},
   "outputs": [
    {
     "name": "stdout",
     "output_type": "stream",
     "text": [
      "stackedensemble prediction progress: |████████████████████████████████████| 100%\n"
     ]
    }
   ],
   "source": [
    "pred = aml.predict(train)\n",
    "#print(pred.head())\n",
    "#print(test.head())"
   ]
  },
  {
   "cell_type": "code",
   "execution_count": 111,
   "metadata": {},
   "outputs": [],
   "source": [
    "#pred.describe()\n",
    "#perf = aml.leader.model_performance(test)\n",
    "#perf"
   ]
  },
  {
   "cell_type": "code",
   "execution_count": 119,
   "metadata": {},
   "outputs": [
    {
     "name": "stdout",
     "output_type": "stream",
     "text": [
      "Anzahl:  39390\n",
      "Summe:  149791\n",
      "Total dif:  32604.321447069557\n",
      "Relativ dif:  0.8277309329035175\n",
      "Durchschnitt:  3.802767199796903\n",
      "Standartabweichung:  1.1048309297359762\n",
      "Rows Test:  39389\n",
      "Rows Prediction:  39389\n"
     ]
    }
   ],
   "source": [
    "import math\n",
    "\n",
    "df = train.as_data_frame(0)\n",
    "pre = pred.as_data_frame(0)\n",
    "\n",
    "count = 0\n",
    "value = 0\n",
    "valuePre = 0\n",
    "dif = 0\n",
    "\n",
    "for x in df:\n",
    "    if count > 0:\n",
    "        valuePre += float(pre[count][0])\n",
    "        value += int(x[2])\n",
    "        dif += abs(abs(float(x[2]))-abs(float(pre[count][0])))\n",
    "    count += 1\n",
    "    \n",
    "durschschnitt = (value/count)\n",
    "\n",
    "\n",
    "total = 0\n",
    "count = 0\n",
    "for x in df:\n",
    "    if count > 0:\n",
    "        total += pow((float(x[2])-durschschnitt),2)\n",
    "    count += 1\n",
    "\n",
    "total /= count-1\n",
    "\n",
    "    \n",
    "    \n",
    "#print(\"df: \",df)\n",
    "print(\"Anzahl: \",count)\n",
    "print(\"Summe: \",value)\n",
    "print(\"Total dif: \",dif)\n",
    "print(\"Relativ dif: \",dif/count)\n",
    "print(\"Durchschnitt: \",durschschnitt)\n",
    "print(\"Standartabweichung: \", math.sqrt(total))\n",
    "print(\"Rows Test: \",train.nrows)\n",
    "print(\"Rows Prediction: \",pred.nrows)\n",
    "\n"
   ]
  },
  {
   "cell_type": "code",
   "execution_count": null,
   "metadata": {},
   "outputs": [],
   "source": [
    "print(df[0:10])"
   ]
  }
 ],
 "metadata": {
  "kernelspec": {
   "display_name": "Python 3",
   "language": "python",
   "name": "python3"
  },
  "language_info": {
   "codemirror_mode": {
    "name": "ipython",
    "version": 3
   },
   "file_extension": ".py",
   "mimetype": "text/x-python",
   "name": "python",
   "nbconvert_exporter": "python",
   "pygments_lexer": "ipython3",
   "version": "3.6.9"
  }
 },
 "nbformat": 4,
 "nbformat_minor": 2
}
