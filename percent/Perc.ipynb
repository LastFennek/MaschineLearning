{
 "cells": [
  {
   "cell_type": "code",
   "execution_count": 29,
   "metadata": {
    "scrolled": true
   },
   "outputs": [
    {
     "name": "stdout",
     "output_type": "stream",
     "text": [
      "Checking whether there is an H2O instance running at http://localhost:54321 . connected.\n"
     ]
    },
    {
     "data": {
      "text/html": [
       "<div style=\"overflow:auto\"><table style=\"width:50%\"><tr><td>H2O cluster uptime:</td>\n",
       "<td>23 mins 56 secs</td></tr>\n",
       "<tr><td>H2O cluster timezone:</td>\n",
       "<td>Europe/Berlin</td></tr>\n",
       "<tr><td>H2O data parsing timezone:</td>\n",
       "<td>UTC</td></tr>\n",
       "<tr><td>H2O cluster version:</td>\n",
       "<td>3.26.0.5</td></tr>\n",
       "<tr><td>H2O cluster version age:</td>\n",
       "<td>8 days </td></tr>\n",
       "<tr><td>H2O cluster name:</td>\n",
       "<td>H2O_from_python_msche_fmtyli</td></tr>\n",
       "<tr><td>H2O cluster total nodes:</td>\n",
       "<td>1</td></tr>\n",
       "<tr><td>H2O cluster free memory:</td>\n",
       "<td>1.616 Gb</td></tr>\n",
       "<tr><td>H2O cluster total cores:</td>\n",
       "<td>8</td></tr>\n",
       "<tr><td>H2O cluster allowed cores:</td>\n",
       "<td>8</td></tr>\n",
       "<tr><td>H2O cluster status:</td>\n",
       "<td>locked, healthy</td></tr>\n",
       "<tr><td>H2O connection url:</td>\n",
       "<td>http://localhost:54321</td></tr>\n",
       "<tr><td>H2O connection proxy:</td>\n",
       "<td>None</td></tr>\n",
       "<tr><td>H2O internal security:</td>\n",
       "<td>False</td></tr>\n",
       "<tr><td>H2O API Extensions:</td>\n",
       "<td>Amazon S3, Algos, AutoML, Core V3, TargetEncoder, Core V4</td></tr>\n",
       "<tr><td>Python version:</td>\n",
       "<td>3.6.9 final</td></tr></table></div>"
      ],
      "text/plain": [
       "--------------------------  ---------------------------------------------------------\n",
       "H2O cluster uptime:         23 mins 56 secs\n",
       "H2O cluster timezone:       Europe/Berlin\n",
       "H2O data parsing timezone:  UTC\n",
       "H2O cluster version:        3.26.0.5\n",
       "H2O cluster version age:    8 days\n",
       "H2O cluster name:           H2O_from_python_msche_fmtyli\n",
       "H2O cluster total nodes:    1\n",
       "H2O cluster free memory:    1.616 Gb\n",
       "H2O cluster total cores:    8\n",
       "H2O cluster allowed cores:  8\n",
       "H2O cluster status:         locked, healthy\n",
       "H2O connection url:         http://localhost:54321\n",
       "H2O connection proxy:\n",
       "H2O internal security:      False\n",
       "H2O API Extensions:         Amazon S3, Algos, AutoML, Core V3, TargetEncoder, Core V4\n",
       "Python version:             3.6.9 final\n",
       "--------------------------  ---------------------------------------------------------"
      ]
     },
     "metadata": {},
     "output_type": "display_data"
    }
   ],
   "source": [
    "import h2o\n",
    "import math\n",
    "from h2o.automl import H2OAutoML\n",
    "\n",
    "h2o.init()"
   ]
  },
  {
   "cell_type": "code",
   "execution_count": 31,
   "metadata": {
    "scrolled": true
   },
   "outputs": [
    {
     "name": "stdout",
     "output_type": "stream",
     "text": [
      "Parse progress: |█████████████████████████████████████████████████████████| 100%\n"
     ]
    }
   ],
   "source": [
    "data = h2o.import_file(\"C:\\Daten\\ML\\perc.csv\")"
   ]
  },
  {
   "cell_type": "code",
   "execution_count": 17,
   "metadata": {},
   "outputs": [
    {
     "name": "stdout",
     "output_type": "stream",
     "text": [
      "AutoML progress: |████████████████████████████████████████████████████████| 100%\n"
     ]
    }
   ],
   "source": [
    "x = data.columns\n",
    "x.remove('ans')\n",
    "\n",
    "aml = H2OAutoML(max_runtime_secs = 360)\n",
    "aml.train(y = 'ans', x = x, training_frame = data)\n",
    "#, leaderboard_frame = test\n",
    "#pred = aml.predict(train)"
   ]
  },
  {
   "cell_type": "code",
   "execution_count": 23,
   "metadata": {},
   "outputs": [
    {
     "data": {
      "text/plain": [
       "'C:\\\\Daten\\\\ML\\\\percent_Model\\\\DeepLearning_grid_1_AutoML_20190924_195416_model_10'"
      ]
     },
     "execution_count": 23,
     "metadata": {},
     "output_type": "execute_result"
    }
   ],
   "source": [
    "h2o.save_model(aml.leader, path = \"C:\\Daten\\ML\\percent_Model\")"
   ]
  },
  {
   "cell_type": "code",
   "execution_count": 38,
   "metadata": {},
   "outputs": [
    {
     "name": "stdout",
     "output_type": "stream",
     "text": [
      "Parse progress: |█████████████████████████████████████████████████████████| 100%\n"
     ]
    }
   ],
   "source": [
    "test = h2o.import_file(\"C:\\Daten\\ML\\ptest.csv\")"
   ]
  },
  {
   "cell_type": "code",
   "execution_count": 41,
   "metadata": {},
   "outputs": [
    {
     "name": "stdout",
     "output_type": "stream",
     "text": [
      "deeplearning prediction progress: |███████████████████████████████████████| 100%\n"
     ]
    }
   ],
   "source": [
    "pred = aml.predict(data)"
   ]
  },
  {
   "cell_type": "code",
   "execution_count": 44,
   "metadata": {},
   "outputs": [
    {
     "name": "stdout",
     "output_type": "stream",
     "text": [
      "Anzahl:  25\n",
      "Summe:  353\n",
      "Total dif:  8.176842656984647\n",
      "Relativ dif:  0.32707370627938587\n",
      "Durchschnitt:  14.12\n",
      "Standartabweichung:  10.879577580647757\n"
     ]
    }
   ],
   "source": [
    "df = data.as_data_frame(0)\n",
    "pre = pred.as_data_frame(0)\n",
    "\n",
    "count = 0\n",
    "value = 0\n",
    "valuePre = 0\n",
    "dif = 0\n",
    "\n",
    "for x in df:\n",
    "    if count > 0:\n",
    "        valuePre += float(pre[count][0])\n",
    "        value += int(x[0])\n",
    "        dif += abs(abs(float(x[2]))-abs(float(pre[count][0])))\n",
    "    count += 1\n",
    "    \n",
    "durschschnitt = (value/count)\n",
    "\n",
    "\n",
    "total = 0\n",
    "count = 0\n",
    "for x in df:\n",
    "    if count > 0:\n",
    "        total += pow((float(x[2])-durschschnitt),2)\n",
    "    count += 1\n",
    "\n",
    "total /= count-1\n",
    "\n",
    "    \n",
    "    \n",
    "#print(\"df: \",df)\n",
    "print(\"Anzahl: \",count)\n",
    "print(\"Summe: \",value)\n",
    "print(\"Total dif: \",dif)\n",
    "print(\"Relativ dif: \",dif/count)\n",
    "print(\"Durchschnitt: \",durschschnitt)\n",
    "print(\"Standartabweichung: \", math.sqrt(total))\n",
    "#print(\"Rows Test: \",train.nrows)\n",
    "#print(\"Rows Prediction: \",pred.nrows)"
   ]
  },
  {
   "cell_type": "code",
   "execution_count": 49,
   "metadata": {},
   "outputs": [
    {
     "data": {
      "text/plain": [
       "[['predict'],\n",
       " ['2.5246578602644902'],\n",
       " ['1.9976114938453828'],\n",
       " ['1.4760356839927367'],\n",
       " ['1.2660961868738476'],\n",
       " ['1.347881227503426'],\n",
       " ['1.4484554743870244'],\n",
       " ['2.9448622667545616'],\n",
       " ['2.419303801138591'],\n",
       " ['1.898686029029319'],\n",
       " ['1.479745606576365'],\n",
       " ['1.4869452675031183'],\n",
       " ['1.5334457048846963'],\n",
       " ['1.6435714692486787'],\n",
       " ['1.7632480773597452'],\n",
       " ['2.049154969040061'],\n",
       " ['2.8296952234677555'],\n",
       " ['24.78898988562349'],\n",
       " ['0.8554600712902265'],\n",
       " ['9.720945899469239'],\n",
       " ['10.166730465538837'],\n",
       " ['7.6142515431354685'],\n",
       " ['7.731920796095986'],\n",
       " ['10.31294210330313'],\n",
       " ['10.544704965469801']]"
      ]
     },
     "execution_count": 49,
     "metadata": {},
     "output_type": "execute_result"
    }
   ],
   "source": [
    "pre"
   ]
  }
 ],
 "metadata": {
  "kernelspec": {
   "display_name": "Python 3",
   "language": "python",
   "name": "python3"
  },
  "language_info": {
   "codemirror_mode": {
    "name": "ipython",
    "version": 3
   },
   "file_extension": ".py",
   "mimetype": "text/x-python",
   "name": "python",
   "nbconvert_exporter": "python",
   "pygments_lexer": "ipython3",
   "version": "3.6.9"
  }
 },
 "nbformat": 4,
 "nbformat_minor": 2
}
